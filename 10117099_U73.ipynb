{
  "nbformat": 4,
  "nbformat_minor": 0,
  "metadata": {
    "colab": {
      "name": "Untitled0.ipynb",
      "provenance": []
    },
    "kernelspec": {
      "name": "python3",
      "display_name": "Python 3"
    },
    "language_info": {
      "name": "python"
    }
  },
  "cells": [
    {
      "cell_type": "markdown",
      "metadata": {
        "id": "hwweCW8a27Zn"
      },
      "source": [
        "**Nadia Dwi Swastiti - 10117099**\n",
        "\n",
        "\n"
      ]
    },
    {
      "cell_type": "code",
      "metadata": {
        "id": "eD3-jtqo2RO0"
      },
      "source": [
        "import numpy as np"
      ],
      "execution_count": 1,
      "outputs": []
    },
    {
      "cell_type": "markdown",
      "metadata": {
        "id": "HUqFBDgvfaLs"
      },
      "source": [
        "**METODE PENALTI**\n",
        "\n",
        "minimumkan\n",
        "$$f(x)=...$$\n",
        "terhdap kendala\n",
        "$$ h(x)=0 $$\n",
        "Dg metode penalti, masalah dimodif menjadi\n",
        "$$\\theta(x)=f(x)+\\frac{c}{2}(h(x))^2$$\n",
        "dg c bilangan konstanta positif yg nilainya besar.\n",
        "$$ \\nabla\\theta(x)= $$\n",
        "$$ \\nabla^2\\theta(x)= $$"
      ]
    },
    {
      "cell_type": "code",
      "metadata": {
        "id": "zAM6ApJl2ZX6",
        "colab": {
          "base_uri": "https://localhost:8080/"
        },
        "outputId": "14d058a8-ad6e-4bc4-a6f6-9981bc52507f"
      },
      "source": [
        "#Metode Newton\n",
        "\n",
        "x=np.array([0,0]) #nilai/tebakan awal\n",
        "print(\"x0= \",x)\n",
        "c=100 #coba untuk c=1,c=2, c=10, c=100, c=1000000\n",
        "nablaf=np.array([8*x[0]-6+2*c*(2*x[0]+2*x[1]-4), 8*x[1]-14+2*c*(2*x[0]+2*x[1]-4)]) #isi ini\n",
        "nabla2f=np.array([[8+4*c,4*c],[4*c,8+4*c]]) #isi ini\n",
        "print(\"nabla theta(x0)= \",nablaf)\n",
        "print(\"norm(nabla theta(x0))= \",np.linalg.norm(nablaf))\n",
        "print(\"theta(x0)= \", (x[0]-2)**2+(x[0]+3)**2+(x[0]-3)**2+(x[0]+5)**2+(x[1]-3)**2+(x[1]-2)**2+(x[1]-4)**2+(x[1]+2)**2+(c/2)*(2*x[0]+2*x[1]-4)**2 ) #isi ini\n",
        "error=0.00001\n",
        "\n",
        "iter=1\n",
        "maxiter=100\n",
        "\n",
        "while  np.linalg.norm(nablaf)>error and iter<maxiter:\n",
        "  x=x-np.linalg.inv(nabla2f)@nablaf #memperbaharui x\n",
        "  print(\"\\n\",\"x\",iter,\"= \",x)\n",
        "  nablaf=np.array([8*x[0]-6+2*c*(2*x[0]+2*x[1]-4), 8*x[1]-14+2*c*(2*x[0]+2*x[1]-4)]) #isi ini\n",
        "  nabla2f=np.array( [[8+4*c,4*c],[4*c,8+4*c]] ) #isi ini\n",
        "  print(\"nabla theta(x\",iter,\")= \",nablaf)\n",
        "  print(\"norm(nabla theta(x\",iter,\")= \",np.linalg.norm(nablaf))\n",
        "  print(\"theta(x\",iter,\")=\", (x[0]-2)**2+(x[0]+3)**2+(x[0]-3)**2+(x[0]+5)**2+(x[1]-3)**2+(x[1]-2)**2+(x[1]-4)**2+(x[1]+2)**2+(c/2)*(2*x[0]+2*x[1]-4)**2 ) #isi ini\n",
        "  iter=iter+1"
      ],
      "execution_count": 7,
      "outputs": [
        {
          "output_type": "stream",
          "text": [
            "x0=  [0 0]\n",
            "nabla theta(x0)=  [-806 -814]\n",
            "norm(nabla theta(x0))=  1145.5269529784098\n",
            "theta(x0)=  880.0\n",
            "\n",
            " x 1 =  [0.50247525 1.50247525]\n",
            "nabla theta(x 1 )=  [-3.23208127e-12 -3.22231131e-12]\n",
            "norm(nabla theta(x 1 )=  4.563949987499181e-12\n",
            "theta(x 1 )= 72.02475247524745\n"
          ],
          "name": "stdout"
        }
      ]
    },
    {
      "cell_type": "markdown",
      "metadata": {
        "id": "Dz9iMfXFM59Z"
      },
      "source": [
        "**METODE BARRIER**\n",
        "\n",
        "minimumkan\n",
        "$$f(x)=...$$\n",
        "terhdap kendala\n",
        "$$ h(x)\\ge0 $$\n",
        "Dg metode barrier, masalah dimodif menjadi\n",
        "$$\\theta(x)=f(x)-cln(h(x))$$\n",
        "atau\n",
        "$$\\theta(x)=f(x)+c\\frac{1}{h(x)}$$\n",
        "dg c bilangan konstanta positif yg nilainya besar.\n",
        "$$ \\nabla\\theta(x)= $$\n",
        "$$ \\nabla^2\\theta(x)= $$"
      ]
    },
    {
      "cell_type": "code",
      "metadata": {
        "id": "MbkVmKAweTf9",
        "colab": {
          "base_uri": "https://localhost:8080/",
          "height": 861
        },
        "outputId": "a72f276e-76b0-480e-a622-babd7054f874"
      },
      "source": [
        "#Metode Newton\n",
        "\n",
        "x=np.array([0.1, 0.1]) #nilai/tebakan awal\n",
        "print(\"x0= \",x)\n",
        "c=0.000001\n",
        "nablaf=np.array( [-1-c/x[0]+c/(1-x[0]-x[1]), -1-c/x[1]+c/(1-x[0]-x[1])] ) #isi ini\n",
        "nabla2f=np.array( [[c/x[0]**2-c/(1-x[0]-x[1])**2, -c/(1-x[0]-x[1])**2],[-c/(1-x[0]-x[1])**2, c/x[1]**2-c/(1-x[0]-x[1])**2]] ) #isi ini\n",
        "print(\"nabla theta(x0)= \",nablaf)\n",
        "print(\"norm(nabla theta(x0))= \",np.linalg.norm(nablaf))\n",
        "#print(\"theta(x0)= \", -x[0]-x[1]-c*math.log(x[0])-c*math.log(x[1])-c*math.log(1-x[0]-x[1]))\n",
        "error=0.00001\n",
        "\n",
        "iter=1\n",
        "maxiter=100\n",
        "\n",
        "while  np.linalg.norm(nablaf)>error and iter<maxiter:\n",
        "  x=x-np.linalg.inv(nabla2f)@nablaf #memperbaharui x\n",
        "  print(\"\\n\",\"x\",iter,\"= \",x)\n",
        "  nablaf=np.array( [-1-c/x[0]+c/(1-x[0]-x[1]), -1-c/x[1]+c/(1-x[0]-x[1])] ) #isi ini\n",
        "  nabla2f=np.array( [[c/x[0]**2-c/(1-x[0]-x[1])**2, -c/(1-x[0]-x[1])**2],[-c/(1-x[0]-x[1])**2, c/x[1]**2-c/(1-x[0]-x[1])**2]] ) #isi ini\n",
        "  print(\"nabla theta(x\",iter,\")= \",nablaf)\n",
        "  print(\"norm(nabla theta(x\",iter,\")= \",np.linalg.norm(nablaf))\n",
        "  #print(\"theta(x\",iter,\")=\", -x[0]-x[1]-c*math.log(x[0])-c*math.log(x[1])-c*math.log(1-x[0]-x[1]) ) #isi ini\n",
        "  iter=iter+1"
      ],
      "execution_count": 21,
      "outputs": [
        {
          "output_type": "stream",
          "text": [
            "x0=  [0.1 0.1]\n",
            "nabla theta(x0)=  [-1.00000875 -1.00000875]\n",
            "norm(nabla theta(x0))=  1.414225936741766\n",
            "\n",
            " x 1 =  [10322.77096774 10322.77096774]\n",
            "nabla theta(x 1 )=  [-1. -1.]\n",
            "norm(nabla theta(x 1 )=  1.4142135625785976\n",
            "\n",
            " x 2 =  [2.1313985e+14 2.1313985e+14]\n",
            "nabla theta(x 2 )=  [-1. -1.]\n",
            "norm(nabla theta(x 2 )=  1.4142135623730951\n",
            "\n",
            " x 3 =  [9.08571913e+34 9.08571913e+34]\n",
            "nabla theta(x 3 )=  [-1. -1.]\n",
            "norm(nabla theta(x 3 )=  1.4142135623730951\n",
            "\n",
            " x 4 =  [1.65100584e+76 1.65100584e+76]\n",
            "nabla theta(x 4 )=  [-1. -1.]\n",
            "norm(nabla theta(x 4 )=  1.4142135623730951\n",
            "\n",
            " x 5 =  [5.45164058e+158 5.45164058e+158]\n",
            "nabla theta(x 5 )=  [-1. -1.]\n",
            "norm(nabla theta(x 5 )=  1.4142135623730951\n"
          ],
          "name": "stdout"
        },
        {
          "output_type": "stream",
          "text": [
            "/usr/local/lib/python3.7/dist-packages/ipykernel_launcher.py:20: RuntimeWarning: overflow encountered in double_scalars\n"
          ],
          "name": "stderr"
        },
        {
          "output_type": "error",
          "ename": "LinAlgError",
          "evalue": "ignored",
          "traceback": [
            "\u001b[0;31m---------------------------------------------------------------------------\u001b[0m",
            "\u001b[0;31mLinAlgError\u001b[0m                               Traceback (most recent call last)",
            "\u001b[0;32m<ipython-input-21-142c72583015>\u001b[0m in \u001b[0;36m<module>\u001b[0;34m()\u001b[0m\n\u001b[1;32m     15\u001b[0m \u001b[0;34m\u001b[0m\u001b[0m\n\u001b[1;32m     16\u001b[0m \u001b[0;32mwhile\u001b[0m  \u001b[0mnp\u001b[0m\u001b[0;34m.\u001b[0m\u001b[0mlinalg\u001b[0m\u001b[0;34m.\u001b[0m\u001b[0mnorm\u001b[0m\u001b[0;34m(\u001b[0m\u001b[0mnablaf\u001b[0m\u001b[0;34m)\u001b[0m\u001b[0;34m>\u001b[0m\u001b[0merror\u001b[0m \u001b[0;32mand\u001b[0m \u001b[0miter\u001b[0m\u001b[0;34m<\u001b[0m\u001b[0mmaxiter\u001b[0m\u001b[0;34m:\u001b[0m\u001b[0;34m\u001b[0m\u001b[0;34m\u001b[0m\u001b[0m\n\u001b[0;32m---> 17\u001b[0;31m   \u001b[0mx\u001b[0m\u001b[0;34m=\u001b[0m\u001b[0mx\u001b[0m\u001b[0;34m-\u001b[0m\u001b[0mnp\u001b[0m\u001b[0;34m.\u001b[0m\u001b[0mlinalg\u001b[0m\u001b[0;34m.\u001b[0m\u001b[0minv\u001b[0m\u001b[0;34m(\u001b[0m\u001b[0mnabla2f\u001b[0m\u001b[0;34m)\u001b[0m\u001b[0;34m@\u001b[0m\u001b[0mnablaf\u001b[0m \u001b[0;31m#memperbaharui x\u001b[0m\u001b[0;34m\u001b[0m\u001b[0;34m\u001b[0m\u001b[0m\n\u001b[0m\u001b[1;32m     18\u001b[0m   \u001b[0mprint\u001b[0m\u001b[0;34m(\u001b[0m\u001b[0;34m\"\\n\"\u001b[0m\u001b[0;34m,\u001b[0m\u001b[0;34m\"x\"\u001b[0m\u001b[0;34m,\u001b[0m\u001b[0miter\u001b[0m\u001b[0;34m,\u001b[0m\u001b[0;34m\"= \"\u001b[0m\u001b[0;34m,\u001b[0m\u001b[0mx\u001b[0m\u001b[0;34m)\u001b[0m\u001b[0;34m\u001b[0m\u001b[0;34m\u001b[0m\u001b[0m\n\u001b[1;32m     19\u001b[0m   \u001b[0mnablaf\u001b[0m\u001b[0;34m=\u001b[0m\u001b[0mnp\u001b[0m\u001b[0;34m.\u001b[0m\u001b[0marray\u001b[0m\u001b[0;34m(\u001b[0m \u001b[0;34m[\u001b[0m\u001b[0;34m-\u001b[0m\u001b[0;36m1\u001b[0m\u001b[0;34m-\u001b[0m\u001b[0mc\u001b[0m\u001b[0;34m/\u001b[0m\u001b[0mx\u001b[0m\u001b[0;34m[\u001b[0m\u001b[0;36m0\u001b[0m\u001b[0;34m]\u001b[0m\u001b[0;34m+\u001b[0m\u001b[0mc\u001b[0m\u001b[0;34m/\u001b[0m\u001b[0;34m(\u001b[0m\u001b[0;36m1\u001b[0m\u001b[0;34m-\u001b[0m\u001b[0mx\u001b[0m\u001b[0;34m[\u001b[0m\u001b[0;36m0\u001b[0m\u001b[0;34m]\u001b[0m\u001b[0;34m-\u001b[0m\u001b[0mx\u001b[0m\u001b[0;34m[\u001b[0m\u001b[0;36m1\u001b[0m\u001b[0;34m]\u001b[0m\u001b[0;34m)\u001b[0m\u001b[0;34m,\u001b[0m \u001b[0;34m-\u001b[0m\u001b[0;36m1\u001b[0m\u001b[0;34m-\u001b[0m\u001b[0mc\u001b[0m\u001b[0;34m/\u001b[0m\u001b[0mx\u001b[0m\u001b[0;34m[\u001b[0m\u001b[0;36m1\u001b[0m\u001b[0;34m]\u001b[0m\u001b[0;34m+\u001b[0m\u001b[0mc\u001b[0m\u001b[0;34m/\u001b[0m\u001b[0;34m(\u001b[0m\u001b[0;36m1\u001b[0m\u001b[0;34m-\u001b[0m\u001b[0mx\u001b[0m\u001b[0;34m[\u001b[0m\u001b[0;36m0\u001b[0m\u001b[0;34m]\u001b[0m\u001b[0;34m-\u001b[0m\u001b[0mx\u001b[0m\u001b[0;34m[\u001b[0m\u001b[0;36m1\u001b[0m\u001b[0;34m]\u001b[0m\u001b[0;34m)\u001b[0m\u001b[0;34m]\u001b[0m \u001b[0;34m)\u001b[0m \u001b[0;31m#isi ini\u001b[0m\u001b[0;34m\u001b[0m\u001b[0;34m\u001b[0m\u001b[0m\n",
            "\u001b[0;32m<__array_function__ internals>\u001b[0m in \u001b[0;36minv\u001b[0;34m(*args, **kwargs)\u001b[0m\n",
            "\u001b[0;32m/usr/local/lib/python3.7/dist-packages/numpy/linalg/linalg.py\u001b[0m in \u001b[0;36minv\u001b[0;34m(a)\u001b[0m\n\u001b[1;32m    544\u001b[0m     \u001b[0msignature\u001b[0m \u001b[0;34m=\u001b[0m \u001b[0;34m'D->D'\u001b[0m \u001b[0;32mif\u001b[0m \u001b[0misComplexType\u001b[0m\u001b[0;34m(\u001b[0m\u001b[0mt\u001b[0m\u001b[0;34m)\u001b[0m \u001b[0;32melse\u001b[0m \u001b[0;34m'd->d'\u001b[0m\u001b[0;34m\u001b[0m\u001b[0;34m\u001b[0m\u001b[0m\n\u001b[1;32m    545\u001b[0m     \u001b[0mextobj\u001b[0m \u001b[0;34m=\u001b[0m \u001b[0mget_linalg_error_extobj\u001b[0m\u001b[0;34m(\u001b[0m\u001b[0m_raise_linalgerror_singular\u001b[0m\u001b[0;34m)\u001b[0m\u001b[0;34m\u001b[0m\u001b[0;34m\u001b[0m\u001b[0m\n\u001b[0;32m--> 546\u001b[0;31m     \u001b[0mainv\u001b[0m \u001b[0;34m=\u001b[0m \u001b[0m_umath_linalg\u001b[0m\u001b[0;34m.\u001b[0m\u001b[0minv\u001b[0m\u001b[0;34m(\u001b[0m\u001b[0ma\u001b[0m\u001b[0;34m,\u001b[0m \u001b[0msignature\u001b[0m\u001b[0;34m=\u001b[0m\u001b[0msignature\u001b[0m\u001b[0;34m,\u001b[0m \u001b[0mextobj\u001b[0m\u001b[0;34m=\u001b[0m\u001b[0mextobj\u001b[0m\u001b[0;34m)\u001b[0m\u001b[0;34m\u001b[0m\u001b[0;34m\u001b[0m\u001b[0m\n\u001b[0m\u001b[1;32m    547\u001b[0m     \u001b[0;32mreturn\u001b[0m \u001b[0mwrap\u001b[0m\u001b[0;34m(\u001b[0m\u001b[0mainv\u001b[0m\u001b[0;34m.\u001b[0m\u001b[0mastype\u001b[0m\u001b[0;34m(\u001b[0m\u001b[0mresult_t\u001b[0m\u001b[0;34m,\u001b[0m \u001b[0mcopy\u001b[0m\u001b[0;34m=\u001b[0m\u001b[0;32mFalse\u001b[0m\u001b[0;34m)\u001b[0m\u001b[0;34m)\u001b[0m\u001b[0;34m\u001b[0m\u001b[0;34m\u001b[0m\u001b[0m\n\u001b[1;32m    548\u001b[0m \u001b[0;34m\u001b[0m\u001b[0m\n",
            "\u001b[0;32m/usr/local/lib/python3.7/dist-packages/numpy/linalg/linalg.py\u001b[0m in \u001b[0;36m_raise_linalgerror_singular\u001b[0;34m(err, flag)\u001b[0m\n\u001b[1;32m     86\u001b[0m \u001b[0;34m\u001b[0m\u001b[0m\n\u001b[1;32m     87\u001b[0m \u001b[0;32mdef\u001b[0m \u001b[0m_raise_linalgerror_singular\u001b[0m\u001b[0;34m(\u001b[0m\u001b[0merr\u001b[0m\u001b[0;34m,\u001b[0m \u001b[0mflag\u001b[0m\u001b[0;34m)\u001b[0m\u001b[0;34m:\u001b[0m\u001b[0;34m\u001b[0m\u001b[0;34m\u001b[0m\u001b[0m\n\u001b[0;32m---> 88\u001b[0;31m     \u001b[0;32mraise\u001b[0m \u001b[0mLinAlgError\u001b[0m\u001b[0;34m(\u001b[0m\u001b[0;34m\"Singular matrix\"\u001b[0m\u001b[0;34m)\u001b[0m\u001b[0;34m\u001b[0m\u001b[0;34m\u001b[0m\u001b[0m\n\u001b[0m\u001b[1;32m     89\u001b[0m \u001b[0;34m\u001b[0m\u001b[0m\n\u001b[1;32m     90\u001b[0m \u001b[0;32mdef\u001b[0m \u001b[0m_raise_linalgerror_nonposdef\u001b[0m\u001b[0;34m(\u001b[0m\u001b[0merr\u001b[0m\u001b[0;34m,\u001b[0m \u001b[0mflag\u001b[0m\u001b[0;34m)\u001b[0m\u001b[0;34m:\u001b[0m\u001b[0;34m\u001b[0m\u001b[0;34m\u001b[0m\u001b[0m\n",
            "\u001b[0;31mLinAlgError\u001b[0m: Singular matrix"
          ]
        }
      ]
    }
  ]
}